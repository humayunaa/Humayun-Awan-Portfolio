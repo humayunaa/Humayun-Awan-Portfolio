{
 "cells": [
  {
   "cell_type": "code",
   "execution_count": 1,
   "id": "064968f9",
   "metadata": {},
   "outputs": [],
   "source": [
    "import pandas as pd\n",
    "import numpy as np"
   ]
  },
  {
   "cell_type": "code",
   "execution_count": 2,
   "id": "61f39d92",
   "metadata": {},
   "outputs": [],
   "source": [
    "import matplotlib.pyplot as plt\n",
    "import seaborn as sns\n",
    "import numpy as np\n",
    "import time\n",
    "import pandas as np\n",
    "from pandas import DataFrame\n",
    "from sklearn.model_selection import train_test_split\n",
    "from sklearn import tree\n",
    "from sklearn.ensemble import RandomForestClassifier\n",
    "from sklearn import svm\n",
    "from sklearn.svm import SVC\n",
    "from sklearn.neural_network import MLPClassifier\n",
    "from sklearn.naive_bayes import GaussianNB\n",
    "from sklearn.linear_model import LogisticRegression\n",
    "from sklearn.discriminant_analysis import LinearDiscriminantAnalysis\n",
    "from sklearn.metrics import confusion_matrix, classification_report, accuracy_score\n",
    "from sklearn.feature_selection import SelectFromModel\n",
    "from sklearn.ensemble import ExtraTreesClassifier\n",
    "from sklearn.feature_selection import SelectKBest\n",
    "from sklearn.feature_selection import mutual_info_classif\n",
    "from sklearn.ensemble import VotingClassifier\n",
    "from sklearn.neighbors import KNeighborsClassifier\n",
    "from sklearn.model_selection import cross_val_predict\n",
    "from sklearn.impute import SimpleImputer\n",
    "import glob\n",
    "import matplotlib.pyplot as plt\n",
    "import pickle\n",
    "from joblib import dump, load\n",
    "from sklearn.feature_selection import SelectKBest\n",
    "from sklearn.feature_selection import chi2\n",
    "from sklearn.feature_selection import mutual_info_classif\n",
    "from sklearn.preprocessing import StandardScaler\n",
    "from sklearn.ensemble import BaggingClassifier\n",
    "from sklearn.datasets import make_classification\n",
    "from sklearn.ensemble import AdaBoostClassifier\n",
    "from sklearn.impute import SimpleImputer\n",
    "import pandas as pd\n",
    "from scipy.stats import entropy\n",
    "from scipy import stats\n",
    "import numpy as np\n",
    "from numpy import hstack\n",
    "from numpy import vstack\n",
    "from numpy import asarray\n",
    "from sklearn.preprocessing import LabelEncoder\n",
    "from sklearn.datasets import make_blobs\n",
    "from sklearn.model_selection import KFold\n",
    "from sklearn.model_selection import train_test_split\n",
    "from sklearn.metrics import accuracy_score\n",
    "from sklearn.neighbors import KNeighborsClassifier\n",
    "from sklearn.linear_model import LogisticRegression\n",
    "from sklearn.tree import DecisionTreeClassifier\n",
    "from sklearn.svm import SVC\n",
    "from sklearn.naive_bayes import GaussianNB\n",
    "from sklearn.ensemble import AdaBoostClassifier\n",
    "from sklearn.ensemble import BaggingClassifier\n",
    "from sklearn.ensemble import RandomForestClassifier\n",
    "from sklearn.ensemble import ExtraTreesClassifier\n",
    "import pandas as pd\n",
    "import numpy as np\n",
    "from sklearn.impute import SimpleImputer\n",
    "import seaborn as sns"
   ]
  },
  {
   "cell_type": "markdown",
   "id": "ea8d32e5",
   "metadata": {},
   "source": [
    "# Explanation of Code\n",
    "- Find most accurate model for predictions\n",
    "- Test 5 models:\n",
    "- Decision Tree\n",
    "- K-Nearest Neighbour\n",
    "- Logistic Regression\n",
    "- Multilayer Perceptron\n",
    "- XGBoost"
   ]
  },
  {
   "cell_type": "markdown",
   "id": "8b191a11",
   "metadata": {},
   "source": [
    "# Tasks to Access Models\n",
    "- Confusion Matrix & Accuracy of Model:\n",
    "- Confusion Matrix provides information on True/False Positives & Negatives\n",
    "- This allows us to see how many predictions the model got right and wrong for each target variable\n",
    "- Here our target variables are breathing types: normal, fast, deep"
   ]
  },
  {
   "cell_type": "code",
   "execution_count": 3,
   "id": "3dfa4308",
   "metadata": {},
   "outputs": [
    {
     "data": {
      "text/html": [
       "<div>\n",
       "<style scoped>\n",
       "    .dataframe tbody tr th:only-of-type {\n",
       "        vertical-align: middle;\n",
       "    }\n",
       "\n",
       "    .dataframe tbody tr th {\n",
       "        vertical-align: top;\n",
       "    }\n",
       "\n",
       "    .dataframe thead th {\n",
       "        text-align: right;\n",
       "    }\n",
       "</style>\n",
       "<table border=\"1\" class=\"dataframe\">\n",
       "  <thead>\n",
       "    <tr style=\"text-align: right;\">\n",
       "      <th></th>\n",
       "      <th>0</th>\n",
       "      <th>1</th>\n",
       "      <th>2</th>\n",
       "      <th>3</th>\n",
       "      <th>4</th>\n",
       "      <th>5</th>\n",
       "      <th>6</th>\n",
       "      <th>7</th>\n",
       "      <th>8</th>\n",
       "      <th>9</th>\n",
       "      <th>...</th>\n",
       "      <th>4075</th>\n",
       "      <th>4076</th>\n",
       "      <th>4077</th>\n",
       "      <th>4078</th>\n",
       "      <th>4079</th>\n",
       "      <th>4080</th>\n",
       "      <th>4081</th>\n",
       "      <th>4082</th>\n",
       "      <th>4083</th>\n",
       "      <th>4084</th>\n",
       "    </tr>\n",
       "  </thead>\n",
       "  <tbody>\n",
       "    <tr>\n",
       "      <th>5923</th>\n",
       "      <td>normal</td>\n",
       "      <td>0.528899</td>\n",
       "      <td>0.514933</td>\n",
       "      <td>0.495148</td>\n",
       "      <td>0.469974</td>\n",
       "      <td>0.440650</td>\n",
       "      <td>0.407663</td>\n",
       "      <td>0.370505</td>\n",
       "      <td>0.331123</td>\n",
       "      <td>0.291945</td>\n",
       "      <td>...</td>\n",
       "      <td>-0.586660</td>\n",
       "      <td>-0.697868</td>\n",
       "      <td>-0.951606</td>\n",
       "      <td>-1.238830</td>\n",
       "      <td>-1.586808</td>\n",
       "      <td>-1.746881</td>\n",
       "      <td>-1.370055</td>\n",
       "      <td>-0.713014</td>\n",
       "      <td>0.095732</td>\n",
       "      <td>0.747595</td>\n",
       "    </tr>\n",
       "    <tr>\n",
       "      <th>5924</th>\n",
       "      <td>normal</td>\n",
       "      <td>2.230957</td>\n",
       "      <td>2.251140</td>\n",
       "      <td>2.238557</td>\n",
       "      <td>2.220130</td>\n",
       "      <td>2.226209</td>\n",
       "      <td>2.231938</td>\n",
       "      <td>2.244854</td>\n",
       "      <td>2.207000</td>\n",
       "      <td>2.036606</td>\n",
       "      <td>...</td>\n",
       "      <td>0.012353</td>\n",
       "      <td>0.061649</td>\n",
       "      <td>0.112048</td>\n",
       "      <td>0.164425</td>\n",
       "      <td>0.218303</td>\n",
       "      <td>0.275925</td>\n",
       "      <td>0.340401</td>\n",
       "      <td>0.409471</td>\n",
       "      <td>0.481249</td>\n",
       "      <td>0.553745</td>\n",
       "    </tr>\n",
       "    <tr>\n",
       "      <th>5925</th>\n",
       "      <td>normal</td>\n",
       "      <td>0.393646</td>\n",
       "      <td>0.441858</td>\n",
       "      <td>0.451821</td>\n",
       "      <td>0.489278</td>\n",
       "      <td>0.623203</td>\n",
       "      <td>0.785473</td>\n",
       "      <td>0.996655</td>\n",
       "      <td>1.096191</td>\n",
       "      <td>0.859012</td>\n",
       "      <td>...</td>\n",
       "      <td>1.373652</td>\n",
       "      <td>1.362197</td>\n",
       "      <td>1.347655</td>\n",
       "      <td>1.330393</td>\n",
       "      <td>1.307430</td>\n",
       "      <td>1.284495</td>\n",
       "      <td>1.268413</td>\n",
       "      <td>1.256286</td>\n",
       "      <td>1.245325</td>\n",
       "      <td>1.233995</td>\n",
       "    </tr>\n",
       "    <tr>\n",
       "      <th>5926</th>\n",
       "      <td>normal</td>\n",
       "      <td>-0.427719</td>\n",
       "      <td>-0.458694</td>\n",
       "      <td>-0.471275</td>\n",
       "      <td>-0.467682</td>\n",
       "      <td>-0.445248</td>\n",
       "      <td>-0.409703</td>\n",
       "      <td>-0.365726</td>\n",
       "      <td>-0.320233</td>\n",
       "      <td>-0.283771</td>\n",
       "      <td>...</td>\n",
       "      <td>2.302380</td>\n",
       "      <td>2.061841</td>\n",
       "      <td>1.791268</td>\n",
       "      <td>1.512744</td>\n",
       "      <td>1.232491</td>\n",
       "      <td>0.984045</td>\n",
       "      <td>0.816640</td>\n",
       "      <td>0.707544</td>\n",
       "      <td>0.627199</td>\n",
       "      <td>0.571930</td>\n",
       "    </tr>\n",
       "    <tr>\n",
       "      <th>5927</th>\n",
       "      <td>normal</td>\n",
       "      <td>0.348370</td>\n",
       "      <td>0.113400</td>\n",
       "      <td>-0.199810</td>\n",
       "      <td>-0.509344</td>\n",
       "      <td>-0.620985</td>\n",
       "      <td>-0.612280</td>\n",
       "      <td>-0.585864</td>\n",
       "      <td>-0.546487</td>\n",
       "      <td>-0.534530</td>\n",
       "      <td>...</td>\n",
       "      <td>-0.685645</td>\n",
       "      <td>-0.628024</td>\n",
       "      <td>-0.557481</td>\n",
       "      <td>-0.484670</td>\n",
       "      <td>-0.415663</td>\n",
       "      <td>-0.360033</td>\n",
       "      <td>-0.336013</td>\n",
       "      <td>-0.333103</td>\n",
       "      <td>-0.332179</td>\n",
       "      <td>-0.338598</td>\n",
       "    </tr>\n",
       "  </tbody>\n",
       "</table>\n",
       "<p>5 rows × 4085 columns</p>\n",
       "</div>"
      ],
      "text/plain": [
       "        0         1         2         3         4         5         6     \\\n",
       "5923  normal  0.528899  0.514933  0.495148  0.469974  0.440650  0.407663   \n",
       "5924  normal  2.230957  2.251140  2.238557  2.220130  2.226209  2.231938   \n",
       "5925  normal  0.393646  0.441858  0.451821  0.489278  0.623203  0.785473   \n",
       "5926  normal -0.427719 -0.458694 -0.471275 -0.467682 -0.445248 -0.409703   \n",
       "5927  normal  0.348370  0.113400 -0.199810 -0.509344 -0.620985 -0.612280   \n",
       "\n",
       "          7         8         9     ...      4075      4076      4077  \\\n",
       "5923  0.370505  0.331123  0.291945  ... -0.586660 -0.697868 -0.951606   \n",
       "5924  2.244854  2.207000  2.036606  ...  0.012353  0.061649  0.112048   \n",
       "5925  0.996655  1.096191  0.859012  ...  1.373652  1.362197  1.347655   \n",
       "5926 -0.365726 -0.320233 -0.283771  ...  2.302380  2.061841  1.791268   \n",
       "5927 -0.585864 -0.546487 -0.534530  ... -0.685645 -0.628024 -0.557481   \n",
       "\n",
       "          4078      4079      4080      4081      4082      4083      4084  \n",
       "5923 -1.238830 -1.586808 -1.746881 -1.370055 -0.713014  0.095732  0.747595  \n",
       "5924  0.164425  0.218303  0.275925  0.340401  0.409471  0.481249  0.553745  \n",
       "5925  1.330393  1.307430  1.284495  1.268413  1.256286  1.245325  1.233995  \n",
       "5926  1.512744  1.232491  0.984045  0.816640  0.707544  0.627199  0.571930  \n",
       "5927 -0.484670 -0.415663 -0.360033 -0.336013 -0.333103 -0.332179 -0.338598  \n",
       "\n",
       "[5 rows x 4085 columns]"
      ]
     },
     "execution_count": 3,
     "metadata": {},
     "output_type": "execute_result"
    }
   ],
   "source": [
    "df = pd.read_csv(\"final_dataset.csv\", header=None)\n",
    "df.tail()"
   ]
  },
  {
   "cell_type": "markdown",
   "id": "838575c4",
   "metadata": {},
   "source": [
    "## Feature Extraction\n",
    "- Will be making predictions using the the features of our data:"
   ]
  },
  {
   "cell_type": "code",
   "execution_count": 4,
   "id": "3938ebe4",
   "metadata": {},
   "outputs": [
    {
     "name": "stdout",
     "output_type": "stream",
     "text": [
      "(5928, 4085)\n"
     ]
    }
   ],
   "source": [
    "from scipy.fft import fft\n",
    "from scipy.stats import kurtosis, skew\n",
    "\n",
    "print(df.shape)"
   ]
  },
  {
   "cell_type": "code",
   "execution_count": 5,
   "id": "60260b9a",
   "metadata": {},
   "outputs": [],
   "source": [
    "# Function to extract features of each row\n",
    "def extract_features(subcarrier_data):\n",
    "    mean = np.mean(subcarrier_data)\n",
    "    median = np.median(subcarrier_data)\n",
    "    std = np.std(subcarrier_data)\n",
    "    min_val = np.min(subcarrier_data)\n",
    "    max_val = np.max(subcarrier_data)\n",
    "    kurto = kurtosis(subcarrier_data)\n",
    "    skewness = skew(subcarrier_data)\n",
    "    \n",
    "    fft_vals = fft(subcarrier_data)\n",
    "    fft_magnitude = np.abs(fft_vals)\n",
    "    fft_mean = np.mean(fft_magnitude)\n",
    "    fft_std = np.std(fft_magnitude)\n",
    "\n",
    "    return [mean, median, std, min_val, max_val, kurto, skewness, fft_vals, fft_magnitude, fft_mean, fft_std]"
   ]
  },
  {
   "cell_type": "code",
   "execution_count": 6,
   "id": "f7f0ccea",
   "metadata": {},
   "outputs": [],
   "source": [
    "# Create Dataframe of features for each row\n",
    "features_data = df.iloc[:, 1:]\n",
    "features = features_data.apply(lambda row: extract_features(row.values), axis=1, result_type=\"expand\")\n",
    "features_df = pd.DataFrame(features)"
   ]
  },
  {
   "cell_type": "code",
   "execution_count": 7,
   "id": "74dcadfc",
   "metadata": {},
   "outputs": [],
   "source": [
    "labels = df.iloc[:, 0]\n",
    "features_df[\"label\"] = labels\n",
    "\n",
    "# Change Labels\n",
    "features_df = features_df.rename(columns={0: \"mean\", 1: \"median\", 2: \"std\", 3: \"min_val\",\n",
    "                            4: \"max_val\", 5: \"kurtosis\", 6: \"skewness\", 7: \"fft_vals\",\n",
    "                            8: \"fft_magnitude\", 9: \"fft_mean\", 10: \"fft_std\"})\n",
    "\n",
    "feature_names = [\"mean\", \"median\", \"std\", \"min\", \"max\",\"kurto\", \"skewn\" \"fft_mean\", \"fft_std\"]"
   ]
  },
  {
   "cell_type": "markdown",
   "id": "a36d03f9",
   "metadata": {},
   "source": [
    "# Features Explained\n",
    "- Mean: Average value of signal\n",
    "- Median: Middle value of signal\n",
    "- Standard Deviation: Variability of signal\n",
    "- Minimum Value: Smallest value in signal\n",
    "- Maximum Value: Largest value in signal\n",
    "- Kurtosis: Tail of signal distribution\n",
    "- Skewness: Asymmetry of signal distribution\n",
    "- FFT Mean: Average value of signal's frequency compnents\n",
    "- FFT Std : Variability of signal's frequency compnents"
   ]
  },
  {
   "cell_type": "code",
   "execution_count": 8,
   "id": "5a49c3cf",
   "metadata": {},
   "outputs": [],
   "source": [
    "#features_df.to_csv(\"row_feature_extraction.csv\")"
   ]
  },
  {
   "cell_type": "code",
   "execution_count": 9,
   "id": "8aad10af",
   "metadata": {},
   "outputs": [
    {
     "name": "stdout",
     "output_type": "stream",
     "text": [
      "mean                                                     -0.000385\n",
      "median                                                   -0.000298\n",
      "std                                                       0.015643\n",
      "min_val                                                  -0.065836\n",
      "max_val                                                   0.051598\n",
      "kurtosis                                                  0.833623\n",
      "skewness                                                  0.057642\n",
      "fft_vals         [(-1.572589848859074-0j), (2.2834391381813277-...\n",
      "fft_magnitude    [1.572589848859074, 2.668843650554384, 3.10821...\n",
      "fft_mean                                                  0.436199\n",
      "fft_std                                                    0.89985\n",
      "label                                                         deep\n",
      "Name: 1, dtype: object\n"
     ]
    }
   ],
   "source": [
    "print(features_df.iloc[1])"
   ]
  },
  {
   "cell_type": "code",
   "execution_count": 10,
   "id": "efae2cf3",
   "metadata": {
    "scrolled": true
   },
   "outputs": [
    {
     "data": {
      "image/png": "[encoded data removed]",
      "text/plain": [
       "<Figure size 1000x600 with 1 Axes>"
      ]
     },
     "metadata": {},
     "output_type": "display_data"
    }
   ],
   "source": [
    "unique_values = df[0].value_counts()\n",
    "plt.figure(figsize=(10,6))\n",
    "unique_values.plot(kind=\"bar\", color=\"skyblue\")\n",
    "plt.title(\"Freq. of Unique Values in 1st Column\")\n",
    "plt.show()"
   ]
  },
  {
   "cell_type": "markdown",
   "id": "9d2d1227",
   "metadata": {},
   "source": [
    "# Prepare Data\n",
    "- X = predictors (features): drop label, fft_vals, fft_magnitude\n",
    "- label: target variable\n",
    "- fft_vals & fft_magnitude: does not fit in models\n",
    "- Y = target variable"
   ]
  },
  {
   "cell_type": "code",
   "execution_count": 27,
   "id": "4f8bea2a",
   "metadata": {},
   "outputs": [],
   "source": [
    "from sklearn.preprocessing import LabelEncoder\n",
    "\n",
    "uniqe_labels = [i for i in df[0].unique()]\n",
    "\n",
    "# Predictors\n",
    "x = features_df.drop(columns=[\"label\", \"fft_vals\", \"fft_magnitude\"])\n",
    "\n",
    "# Target Variable\n",
    "y = features_df[\"label\"]\n",
    "\n",
    "#label_encoder = LabelEncoder()\n",
    "#y = label_encoder.fit_transform(y)\n",
    "\n",
    "x_train, x_test, y_train, y_test = train_test_split(x, y, test_size=0.2, random_state=42)"
   ]
  },
  {
   "cell_type": "code",
   "execution_count": 28,
   "id": "e1f123e9",
   "metadata": {},
   "outputs": [
    {
     "name": "stdout",
     "output_type": "stream",
     "text": [
      "<class 'pandas.core.frame.DataFrame'>\n",
      "RangeIndex: 5928 entries, 0 to 5927\n",
      "Data columns (total 9 columns):\n",
      " #   Column    Non-Null Count  Dtype  \n",
      "---  ------    --------------  -----  \n",
      " 0   mean      5928 non-null   float64\n",
      " 1   median    5928 non-null   float64\n",
      " 2   std       5928 non-null   float64\n",
      " 3   min_val   5928 non-null   float64\n",
      " 4   max_val   5928 non-null   float64\n",
      " 5   kurtosis  5928 non-null   float64\n",
      " 6   skewness  5928 non-null   float64\n",
      " 7   fft_mean  5928 non-null   float64\n",
      " 8   fft_std   5928 non-null   float64\n",
      "dtypes: float64(9)\n",
      "memory usage: 416.9 KB\n"
     ]
    }
   ],
   "source": [
    "# features used for predictions\n",
    "x.info()"
   ]
  },
  {
   "cell_type": "code",
   "execution_count": 33,
   "id": "59fac653",
   "metadata": {},
   "outputs": [
    {
     "data": {
      "text/plain": [
       "['deep', 'fast', 'normal']"
      ]
     },
     "execution_count": 33,
     "metadata": {},
     "output_type": "execute_result"
    }
   ],
   "source": [
    "# unique labels: use to label confusion matrix\n",
    "uniqe_labels"
   ]
  },
  {
   "cell_type": "markdown",
   "id": "08f3c87d",
   "metadata": {},
   "source": [
    "# Decision Tree\n",
    "- Supervised ML model: learns from labeled data, both input features and target values provided\n",
    "- Splits data into subsets based on feature values. Tree-like structure\n",
    "- Each node is a feature and each branch a decision. Keep going until no more decisions"
   ]
  },
  {
   "cell_type": "code",
   "execution_count": 34,
   "id": "02714cab",
   "metadata": {},
   "outputs": [
    {
     "name": "stdout",
     "output_type": "stream",
     "text": [
      "              precision    recall  f1-score   support\n",
      "\n",
      "        deep       1.00      1.00      1.00      1976\n",
      "        fast       0.50      0.99      0.66      1976\n",
      "      normal       0.00      0.00      0.00      1976\n",
      "\n",
      "    accuracy                           0.66      5928\n",
      "   macro avg       0.50      0.66      0.55      5928\n",
      "weighted avg       0.50      0.66      0.55      5928\n",
      "\n",
      "Decision Tree Accuracy 66.46423751686909 %\n",
      "[[1976    0    0]\n",
      " [   0 1964   12]\n",
      " [   0 1976    0]]\n"
     ]
    },
    {
     "data": {
      "image/png": "[encoded data removed]",
      "text/plain": [
       "<Figure size 600x400 with 1 Axes>"
      ]
     },
     "metadata": {},
     "output_type": "display_data"
    }
   ],
   "source": [
    "from sklearn.tree import DecisionTreeClassifier\n",
    "\n",
    "# Predictions\n",
    "DT = DecisionTreeClassifier()\n",
    "dt_y_pred = cross_val_predict(DT, x, y, cv=10)\n",
    "\n",
    "# Confusion matrix\n",
    "cm_dt = confusion_matrix(y, dt_y_pred, labels=uniqe_labels)\n",
    "\n",
    "cmn_dt = cm_dt.astype('float') / cm_dt.sum(axis=1)[:, np.newaxis]\n",
    "cm_percent_dt = cmn_dt * 100\n",
    "\n",
    "# Create % signs on confusion matrix\n",
    "annotations = np.asarray([['{:.1f}%'.format(value) for value in row] for row in cm_percent_dt])\n",
    "\n",
    "# Plot conusion matrix: with %\n",
    "fig, ax = plt.subplots(figsize=(6, 4))\n",
    "sns.heatmap(cm_percent_dt, annot=annotations, fmt='', cbar=False, cmap='Reds',\n",
    "            xticklabels=uniqe_labels, yticklabels=uniqe_labels)\n",
    "\n",
    "print(classification_report(y, dt_y_pred))\n",
    "print(\"Decision Tree Accuracy\", (accuracy_score(y, dt_y_pred)*100),\"%\")\n",
    "print(cm_dt)"
   ]
  },
  {
   "cell_type": "markdown",
   "id": "9990b904",
   "metadata": {},
   "source": [
    "- Deep: 100% of predictions correctly predicted deep breathing\n",
    "- Fast: 99.4% of predictions correctly predicted fast breathing. Tiny amount predicted false normal\n",
    "- Normal: 100% of predictions wrongly predicted fast breathing"
   ]
  },
  {
   "cell_type": "markdown",
   "id": "7971c306",
   "metadata": {},
   "source": [
    "## K-Nearest Neighbour\n",
    "- Supervised ML model: learns from labeled data, both input features and target values provided\n",
    "- Makes predictions by finding the \"k\" closest data points (neighbors) in the training set\n",
    "- Makes decisions based on these neighbors"
   ]
  },
  {
   "cell_type": "code",
   "execution_count": 35,
   "id": "dab05115",
   "metadata": {},
   "outputs": [
    {
     "name": "stdout",
     "output_type": "stream",
     "text": [
      "              precision    recall  f1-score   support\n",
      "\n",
      "        deep       1.00      1.00      1.00      1976\n",
      "        fast       0.50      0.65      0.56      1976\n",
      "      normal       0.50      0.34      0.41      1976\n",
      "\n",
      "    accuracy                           0.67      5928\n",
      "   macro avg       0.66      0.67      0.66      5928\n",
      "weighted avg       0.66      0.67      0.66      5928\n",
      "\n",
      "KNN Accuracy 66.51484480431849 %\n",
      "[[1976    0    0]\n",
      " [   0 1288  688]\n",
      " [   0 1297  679]]\n"
     ]
    },
    {
     "data": {
      "image/png": "[encoded data removed]",
      "text/plain": [
       "<Figure size 600x400 with 1 Axes>"
      ]
     },
     "metadata": {},
     "output_type": "display_data"
    }
   ],
   "source": [
    "# Predictions\n",
    "KNN = KNeighborsClassifier(n_neighbors=5)\n",
    "knn_y_pred = cross_val_predict(KNN, x, y, cv=10)\n",
    "\n",
    "# Confusion matrix:\n",
    "cm_knn = confusion_matrix(y, knn_y_pred, labels=uniqe_labels)\n",
    "\n",
    "cmn_knn = cm_knn.astype('float') / cm_knn.sum(axis=1)[:, np.newaxis]\n",
    "cm_percent_knn = cmn_knn * 100\n",
    "\n",
    "# Create % signs on confusion matrix\n",
    "annotations = np.asarray([['{:.1f}%'.format(value) for value in row] for row in cm_percent_knn])\n",
    "\n",
    "# Plot conusion matrix: with %\n",
    "fig, ax = plt.subplots(figsize=(6, 4))\n",
    "sns.heatmap(cm_percent_knn, annot=annotations, fmt='', cbar=False, cmap='Reds',\n",
    "            xticklabels=uniqe_labels, yticklabels=uniqe_labels)\n",
    "\n",
    "print(classification_report(y, knn_y_pred))\n",
    "print(\"KNN Accuracy\", (accuracy_score(y, knn_y_pred)*100),\"%\")\n",
    "print(cm_knn)"
   ]
  },
  {
   "cell_type": "markdown",
   "id": "2c102d1a",
   "metadata": {},
   "source": [
    "- Deep: 100% correctly predicted deep breathing\n",
    "- Fast: Almost 2/3 predicted correct fast. 1/3 predicted false normal\n",
    "- Normal: Almost 1/3 predicted correct normal. 2/3 predicted false fast"
   ]
  },
  {
   "cell_type": "markdown",
   "id": "a2599505",
   "metadata": {},
   "source": [
    "## Logistic Regression\n",
    "- Supervised ML model: learns from labeled data, both input features and target values provided\n",
    "- Used for binary classification tasks predicting either: True or False = 1 or 0\n",
    "- Here we have 3 target variables. In each scenario True = Correct, False = Anything other than correct\n",
    "- E.g for deep: 1 = predicts deep & 0 = predicts normal or fast"
   ]
  },
  {
   "cell_type": "code",
   "execution_count": 39,
   "id": "a6fda105",
   "metadata": {},
   "outputs": [
    {
     "name": "stdout",
     "output_type": "stream",
     "text": [
      "              precision    recall  f1-score   support\n",
      "\n",
      "        deep       1.00      1.00      1.00      1976\n",
      "        fast       0.50      0.47      0.48      1976\n",
      "      normal       0.50      0.53      0.51      1976\n",
      "\n",
      "    accuracy                           0.66      5928\n",
      "   macro avg       0.66      0.66      0.66      5928\n",
      "weighted avg       0.66      0.66      0.66      5928\n",
      "\n",
      "Logistic Regression Accuracy 66.48110661268556 %\n",
      "[[1976    0    0]\n",
      " [   0  922 1054]\n",
      " [   0  933 1043]]\n"
     ]
    },
    {
     "data": {
      "image/png": "[encoded data removed]",
      "text/plain": [
       "<Figure size 600x400 with 1 Axes>"
      ]
     },
     "metadata": {},
     "output_type": "display_data"
    }
   ],
   "source": [
    "# Predictions\n",
    "LGR = LogisticRegression(solver=\"lbfgs\", max_iter=500)\n",
    "lgr_y_pred = cross_val_predict(LGR, x, y, cv=10)\n",
    "\n",
    "cm_lgr = confusion_matrix(y, lgr_y_pred, labels=uniqe_labels)\n",
    "\n",
    "cmn_lgr = cm_lgr.astype('float') / cm_lgr.sum(axis=1)[:, np.newaxis]\n",
    "cm_percent_lgr = cmn_lgr * 100\n",
    "\n",
    "# Create % signs on confusion matrix\n",
    "annotations = np.asarray([['{:.1f}%'.format(value) for value in row] for row in cm_percent_lgr])\n",
    "\n",
    "# Plot conusion matrix: %\n",
    "fig, ax = plt.subplots(figsize=(6, 4))\n",
    "sns.heatmap(cm_percent_lgr, annot=annotations, fmt='', cbar=False, cmap='Reds',\n",
    "            xticklabels=uniqe_labels, yticklabels=uniqe_labels)\n",
    "\n",
    "print(classification_report(y, lgr_y_pred))\n",
    "print(\"Logistic Regression Accuracy\", (accuracy_score(y, lgr_y_pred)*100), \"%\")\n",
    "print(cm_lgr)"
   ]
  },
  {
   "cell_type": "markdown",
   "id": "591a08d6",
   "metadata": {},
   "source": [
    "- Deep: 100% predicted correct deep\n",
    "- Fast: Just below 1/2 predicted correct fast. Just above 1/2 predicted false normal\n",
    "- Deep: Just above 1/2 predicted correct normal. Just below 1/2 predicted false fast"
   ]
  },
  {
   "cell_type": "markdown",
   "id": "8e6e2c5d",
   "metadata": {},
   "source": [
    "## Multilayer Perceptron\n",
    "- Artificial neural network, with multiple layers of neurons\n",
    "- Learns complex relationships between input features and target outputs through linear transformations and non-linear activations."
   ]
  },
  {
   "cell_type": "code",
   "execution_count": 40,
   "id": "1fe47b59",
   "metadata": {},
   "outputs": [
    {
     "name": "stdout",
     "output_type": "stream",
     "text": [
      "Requirement already satisfied: tensorflow in c:\\users\\humay\\anaconda3\\lib\\site-packages (2.17.0)\n",
      "Requirement already satisfied: tensorflow-intel==2.17.0 in c:\\users\\humay\\anaconda3\\lib\\site-packages (from tensorflow) (2.17.0)\n",
      "Requirement already satisfied: absl-py>=1.0.0 in c:\\users\\humay\\anaconda3\\lib\\site-packages (from tensorflow-intel==2.17.0->tensorflow) (2.1.0)\n",
      "Requirement already satisfied: astunparse>=1.6.0 in c:\\users\\humay\\anaconda3\\lib\\site-packages (from tensorflow-intel==2.17.0->tensorflow) (1.6.3)\n",
      "Requirement already satisfied: flatbuffers>=24.3.25 in c:\\users\\humay\\anaconda3\\lib\\site-packages (from tensorflow-intel==2.17.0->tensorflow) (24.3.25)\n",
      "Requirement already satisfied: gast!=0.5.0,!=0.5.1,!=0.5.2,>=0.2.1 in c:\\users\\humay\\anaconda3\\lib\\site-packages (from tensorflow-intel==2.17.0->tensorflow) (0.6.0)\n",
      "Requirement already satisfied: google-pasta>=0.1.1 in c:\\users\\humay\\anaconda3\\lib\\site-packages (from tensorflow-intel==2.17.0->tensorflow) (0.2.0)\n",
      "Requirement already satisfied: h5py>=3.10.0 in c:\\users\\humay\\anaconda3\\lib\\site-packages (from tensorflow-intel==2.17.0->tensorflow) (3.11.0)\n",
      "Requirement already satisfied: libclang>=13.0.0 in c:\\users\\humay\\anaconda3\\lib\\site-packages (from tensorflow-intel==2.17.0->tensorflow) (18.1.1)\n",
      "Requirement already satisfied: ml-dtypes<0.5.0,>=0.3.1 in c:\\users\\humay\\anaconda3\\lib\\site-packages (from tensorflow-intel==2.17.0->tensorflow) (0.4.1)\n",
      "Requirement already satisfied: opt-einsum>=2.3.2 in c:\\users\\humay\\anaconda3\\lib\\site-packages (from tensorflow-intel==2.17.0->tensorflow) (3.3.0)\n",
      "Requirement already satisfied: packaging in c:\\users\\humay\\anaconda3\\lib\\site-packages (from tensorflow-intel==2.17.0->tensorflow) (23.1)\n",
      "Requirement already satisfied: protobuf!=4.21.0,!=4.21.1,!=4.21.2,!=4.21.3,!=4.21.4,!=4.21.5,<5.0.0dev,>=3.20.3 in c:\\users\\humay\\anaconda3\\lib\\site-packages (from tensorflow-intel==2.17.0->tensorflow) (4.25.5)\n",
      "Requirement already satisfied: requests<3,>=2.21.0 in c:\\users\\humay\\anaconda3\\lib\\site-packages (from tensorflow-intel==2.17.0->tensorflow) (2.32.3)\n",
      "Requirement already satisfied: setuptools in c:\\users\\humay\\anaconda3\\lib\\site-packages (from tensorflow-intel==2.17.0->tensorflow) (68.0.0)\n",
      "Requirement already satisfied: six>=1.12.0 in c:\\users\\humay\\anaconda3\\lib\\site-packages (from tensorflow-intel==2.17.0->tensorflow) (1.16.0)\n",
      "Requirement already satisfied: termcolor>=1.1.0 in c:\\users\\humay\\anaconda3\\lib\\site-packages (from tensorflow-intel==2.17.0->tensorflow) (2.4.0)\n",
      "Requirement already satisfied: typing-extensions>=3.6.6 in c:\\users\\humay\\anaconda3\\lib\\site-packages (from tensorflow-intel==2.17.0->tensorflow) (4.7.1)\n",
      "Requirement already satisfied: wrapt>=1.11.0 in c:\\users\\humay\\anaconda3\\lib\\site-packages (from tensorflow-intel==2.17.0->tensorflow) (1.14.1)\n",
      "Requirement already satisfied: grpcio<2.0,>=1.24.3 in c:\\users\\humay\\anaconda3\\lib\\site-packages (from tensorflow-intel==2.17.0->tensorflow) (1.66.1)\n",
      "Requirement already satisfied: tensorboard<2.18,>=2.17 in c:\\users\\humay\\anaconda3\\lib\\site-packages (from tensorflow-intel==2.17.0->tensorflow) (2.17.1)\n",
      "Requirement already satisfied: keras>=3.2.0 in c:\\users\\humay\\anaconda3\\lib\\site-packages (from tensorflow-intel==2.17.0->tensorflow) (3.5.0)\n",
      "Requirement already satisfied: tensorflow-io-gcs-filesystem>=0.23.1 in c:\\users\\humay\\anaconda3\\lib\\site-packages (from tensorflow-intel==2.17.0->tensorflow) (0.31.0)\n",
      "Requirement already satisfied: numpy<2.0.0,>=1.23.5 in c:\\users\\humay\\anaconda3\\lib\\site-packages (from tensorflow-intel==2.17.0->tensorflow) (1.24.3)\n",
      "Requirement already satisfied: wheel<1.0,>=0.23.0 in c:\\users\\humay\\anaconda3\\lib\\site-packages (from astunparse>=1.6.0->tensorflow-intel==2.17.0->tensorflow) (0.38.4)\n",
      "Requirement already satisfied: rich in c:\\users\\humay\\anaconda3\\lib\\site-packages (from keras>=3.2.0->tensorflow-intel==2.17.0->tensorflow) (13.8.1)\n",
      "Requirement already satisfied: namex in c:\\users\\humay\\anaconda3\\lib\\site-packages (from keras>=3.2.0->tensorflow-intel==2.17.0->tensorflow) (0.0.8)\n",
      "Requirement already satisfied: optree in c:\\users\\humay\\anaconda3\\lib\\site-packages (from keras>=3.2.0->tensorflow-intel==2.17.0->tensorflow) (0.12.1)\n",
      "Requirement already satisfied: charset-normalizer<4,>=2 in c:\\users\\humay\\anaconda3\\lib\\site-packages (from requests<3,>=2.21.0->tensorflow-intel==2.17.0->tensorflow) (2.0.4)\n",
      "Requirement already satisfied: idna<4,>=2.5 in c:\\users\\humay\\anaconda3\\lib\\site-packages (from requests<3,>=2.21.0->tensorflow-intel==2.17.0->tensorflow) (3.4)\n",
      "Requirement already satisfied: urllib3<3,>=1.21.1 in c:\\users\\humay\\anaconda3\\lib\\site-packages (from requests<3,>=2.21.0->tensorflow-intel==2.17.0->tensorflow) (1.26.16)\n",
      "Requirement already satisfied: certifi>=2017.4.17 in c:\\users\\humay\\anaconda3\\lib\\site-packages (from requests<3,>=2.21.0->tensorflow-intel==2.17.0->tensorflow) (2023.7.22)\n",
      "Requirement already satisfied: markdown>=2.6.8 in c:\\users\\humay\\anaconda3\\lib\\site-packages (from tensorboard<2.18,>=2.17->tensorflow-intel==2.17.0->tensorflow) (3.4.1)\n",
      "Requirement already satisfied: tensorboard-data-server<0.8.0,>=0.7.0 in c:\\users\\humay\\anaconda3\\lib\\site-packages (from tensorboard<2.18,>=2.17->tensorflow-intel==2.17.0->tensorflow) (0.7.2)\n",
      "Requirement already satisfied: werkzeug>=1.0.1 in c:\\users\\humay\\anaconda3\\lib\\site-packages (from tensorboard<2.18,>=2.17->tensorflow-intel==2.17.0->tensorflow) (2.2.3)\n",
      "Requirement already satisfied: MarkupSafe>=2.1.1 in c:\\users\\humay\\anaconda3\\lib\\site-packages (from werkzeug>=1.0.1->tensorboard<2.18,>=2.17->tensorflow-intel==2.17.0->tensorflow) (2.1.1)\n",
      "Requirement already satisfied: markdown-it-py>=2.2.0 in c:\\users\\humay\\anaconda3\\lib\\site-packages (from rich->keras>=3.2.0->tensorflow-intel==2.17.0->tensorflow) (2.2.0)\n",
      "Requirement already satisfied: pygments<3.0.0,>=2.13.0 in c:\\users\\humay\\anaconda3\\lib\\site-packages (from rich->keras>=3.2.0->tensorflow-intel==2.17.0->tensorflow) (2.15.1)\n",
      "Requirement already satisfied: mdurl~=0.1 in c:\\users\\humay\\anaconda3\\lib\\site-packages (from markdown-it-py>=2.2.0->rich->keras>=3.2.0->tensorflow-intel==2.17.0->tensorflow) (0.1.0)\n",
      "Note: you may need to restart the kernel to use updated packages.\n"
     ]
    }
   ],
   "source": [
    "pip install tensorflow"
   ]
  },
  {
   "cell_type": "code",
   "execution_count": 41,
   "id": "cee88579",
   "metadata": {},
   "outputs": [
    {
     "name": "stderr",
     "output_type": "stream",
     "text": [
      "C:\\Users\\humay\\anaconda3\\Lib\\site-packages\\keras\\src\\layers\\core\\dense.py:87: UserWarning: Do not pass an `input_shape`/`input_dim` argument to a layer. When using Sequential models, prefer using an `Input(shape)` object as the first layer in the model instead.\n",
      "  super().__init__(activity_regularizer=activity_regularizer, **kwargs)\n"
     ]
    },
    {
     "name": "stdout",
     "output_type": "stream",
     "text": [
      "Epoch 1/100\n",
      "134/134 - 2s - 12ms/step - accuracy: 0.3129 - loss: 1.0998 - val_accuracy: 0.4400 - val_loss: 1.0842\n",
      "Epoch 2/100\n",
      "134/134 - 0s - 2ms/step - accuracy: 0.4814 - loss: 1.0604 - val_accuracy: 0.5495 - val_loss: 1.0464\n",
      "Epoch 3/100\n",
      "134/134 - 0s - 2ms/step - accuracy: 0.5580 - loss: 1.0232 - val_accuracy: 0.6105 - val_loss: 1.0115\n",
      "Epoch 4/100\n",
      "134/134 - 0s - 2ms/step - accuracy: 0.6225 - loss: 0.9891 - val_accuracy: 0.6400 - val_loss: 0.9790\n",
      "Epoch 5/100\n",
      "134/134 - 0s - 2ms/step - accuracy: 0.6449 - loss: 0.9560 - val_accuracy: 0.6547 - val_loss: 0.9466\n",
      "Epoch 6/100\n",
      "134/134 - 0s - 2ms/step - accuracy: 0.6623 - loss: 0.9220 - val_accuracy: 0.6632 - val_loss: 0.9126\n",
      "Epoch 7/100\n",
      "134/134 - 0s - 2ms/step - accuracy: 0.6656 - loss: 0.8864 - val_accuracy: 0.6674 - val_loss: 0.8769\n",
      "Epoch 8/100\n",
      "134/134 - 0s - 2ms/step - accuracy: 0.6667 - loss: 0.8469 - val_accuracy: 0.6758 - val_loss: 0.8361\n",
      "Epoch 9/100\n",
      "134/134 - 0s - 2ms/step - accuracy: 0.6649 - loss: 0.8037 - val_accuracy: 0.6800 - val_loss: 0.7949\n",
      "Epoch 10/100\n",
      "134/134 - 0s - 2ms/step - accuracy: 0.6656 - loss: 0.7630 - val_accuracy: 0.6821 - val_loss: 0.7575\n",
      "Epoch 11/100\n",
      "134/134 - 0s - 2ms/step - accuracy: 0.6646 - loss: 0.7264 - val_accuracy: 0.6821 - val_loss: 0.7238\n",
      "Epoch 12/100\n",
      "134/134 - 0s - 2ms/step - accuracy: 0.6630 - loss: 0.6938 - val_accuracy: 0.6800 - val_loss: 0.6933\n",
      "Epoch 13/100\n",
      "134/134 - 0s - 2ms/step - accuracy: 0.6628 - loss: 0.6646 - val_accuracy: 0.6821 - val_loss: 0.6660\n",
      "Epoch 14/100\n",
      "134/134 - 0s - 2ms/step - accuracy: 0.6628 - loss: 0.6386 - val_accuracy: 0.6800 - val_loss: 0.6417\n",
      "Epoch 15/100\n",
      "134/134 - 0s - 2ms/step - accuracy: 0.6649 - loss: 0.6154 - val_accuracy: 0.6758 - val_loss: 0.6203\n",
      "Epoch 16/100\n",
      "134/134 - 0s - 2ms/step - accuracy: 0.6656 - loss: 0.5948 - val_accuracy: 0.6737 - val_loss: 0.6008\n",
      "Epoch 17/100\n",
      "134/134 - 0s - 2ms/step - accuracy: 0.6667 - loss: 0.5758 - val_accuracy: 0.6695 - val_loss: 0.5825\n",
      "Epoch 18/100\n",
      "134/134 - 0s - 2ms/step - accuracy: 0.6653 - loss: 0.5586 - val_accuracy: 0.6589 - val_loss: 0.5667\n",
      "Epoch 19/100\n",
      "134/134 - 0s - 2ms/step - accuracy: 0.6684 - loss: 0.5439 - val_accuracy: 0.6505 - val_loss: 0.5534\n",
      "Epoch 20/100\n",
      "134/134 - 0s - 2ms/step - accuracy: 0.6660 - loss: 0.5316 - val_accuracy: 0.6400 - val_loss: 0.5423\n",
      "Epoch 21/100\n",
      "134/134 - 0s - 2ms/step - accuracy: 0.6728 - loss: 0.5214 - val_accuracy: 0.6379 - val_loss: 0.5331\n",
      "Epoch 22/100\n",
      "134/134 - 0s - 1ms/step - accuracy: 0.6726 - loss: 0.5130 - val_accuracy: 0.6400 - val_loss: 0.5253\n",
      "Epoch 23/100\n",
      "134/134 - 0s - 2ms/step - accuracy: 0.6721 - loss: 0.5060 - val_accuracy: 0.6379 - val_loss: 0.5188\n",
      "Epoch 24/100\n",
      "134/134 - 0s - 2ms/step - accuracy: 0.6717 - loss: 0.5001 - val_accuracy: 0.6442 - val_loss: 0.5133\n",
      "Epoch 25/100\n",
      "134/134 - 0s - 2ms/step - accuracy: 0.6703 - loss: 0.4951 - val_accuracy: 0.6400 - val_loss: 0.5086\n",
      "Epoch 26/100\n",
      "134/134 - 0s - 2ms/step - accuracy: 0.6712 - loss: 0.4909 - val_accuracy: 0.6421 - val_loss: 0.5047\n",
      "Epoch 27/100\n",
      "134/134 - 0s - 2ms/step - accuracy: 0.6689 - loss: 0.4873 - val_accuracy: 0.6463 - val_loss: 0.5013\n",
      "Epoch 28/100\n",
      "134/134 - 0s - 2ms/step - accuracy: 0.6719 - loss: 0.4842 - val_accuracy: 0.6421 - val_loss: 0.4984\n",
      "Epoch 29/100\n",
      "134/134 - 0s - 2ms/step - accuracy: 0.6698 - loss: 0.4815 - val_accuracy: 0.6484 - val_loss: 0.4959\n",
      "Epoch 30/100\n",
      "134/134 - 0s - 2ms/step - accuracy: 0.6710 - loss: 0.4792 - val_accuracy: 0.6463 - val_loss: 0.4938\n",
      "Epoch 31/100\n",
      "134/134 - 0s - 2ms/step - accuracy: 0.6707 - loss: 0.4771 - val_accuracy: 0.6442 - val_loss: 0.4919\n",
      "Epoch 32/100\n",
      "134/134 - 0s - 2ms/step - accuracy: 0.6710 - loss: 0.4754 - val_accuracy: 0.6316 - val_loss: 0.4902\n",
      "Epoch 33/100\n",
      "134/134 - 0s - 2ms/step - accuracy: 0.6700 - loss: 0.4738 - val_accuracy: 0.6295 - val_loss: 0.4888\n",
      "Epoch 34/100\n",
      "134/134 - 0s - 2ms/step - accuracy: 0.6686 - loss: 0.4725 - val_accuracy: 0.6358 - val_loss: 0.4875\n",
      "Epoch 35/100\n",
      "134/134 - 0s - 2ms/step - accuracy: 0.6731 - loss: 0.4713 - val_accuracy: 0.6316 - val_loss: 0.4863\n",
      "Epoch 36/100\n",
      "134/134 - 0s - 2ms/step - accuracy: 0.6707 - loss: 0.4702 - val_accuracy: 0.6316 - val_loss: 0.4854\n",
      "Epoch 37/100\n",
      "134/134 - 0s - 2ms/step - accuracy: 0.6731 - loss: 0.4693 - val_accuracy: 0.6316 - val_loss: 0.4845\n",
      "Epoch 38/100\n",
      "134/134 - 0s - 2ms/step - accuracy: 0.6749 - loss: 0.4684 - val_accuracy: 0.6274 - val_loss: 0.4837\n",
      "Epoch 39/100\n",
      "134/134 - 0s - 2ms/step - accuracy: 0.6733 - loss: 0.4677 - val_accuracy: 0.6295 - val_loss: 0.4831\n",
      "Epoch 40/100\n",
      "134/134 - 0s - 2ms/step - accuracy: 0.6733 - loss: 0.4670 - val_accuracy: 0.6337 - val_loss: 0.4825\n",
      "Epoch 41/100\n",
      "134/134 - 0s - 2ms/step - accuracy: 0.6731 - loss: 0.4664 - val_accuracy: 0.6316 - val_loss: 0.4819\n",
      "Epoch 42/100\n",
      "134/134 - 0s - 2ms/step - accuracy: 0.6698 - loss: 0.4658 - val_accuracy: 0.6316 - val_loss: 0.4814\n",
      "Epoch 43/100\n",
      "134/134 - 0s - 2ms/step - accuracy: 0.6757 - loss: 0.4653 - val_accuracy: 0.6295 - val_loss: 0.4810\n",
      "Epoch 44/100\n",
      "134/134 - 0s - 2ms/step - accuracy: 0.6757 - loss: 0.4649 - val_accuracy: 0.6316 - val_loss: 0.4806\n",
      "Epoch 45/100\n",
      "134/134 - 0s - 2ms/step - accuracy: 0.6724 - loss: 0.4645 - val_accuracy: 0.6232 - val_loss: 0.4803\n",
      "Epoch 46/100\n",
      "134/134 - 0s - 2ms/step - accuracy: 0.6719 - loss: 0.4641 - val_accuracy: 0.6253 - val_loss: 0.4799\n",
      "Epoch 47/100\n",
      "134/134 - 0s - 2ms/step - accuracy: 0.6747 - loss: 0.4638 - val_accuracy: 0.6232 - val_loss: 0.4797\n",
      "Epoch 48/100\n",
      "134/134 - 0s - 2ms/step - accuracy: 0.6717 - loss: 0.4635 - val_accuracy: 0.6274 - val_loss: 0.4794\n",
      "Epoch 49/100\n",
      "134/134 - 0s - 2ms/step - accuracy: 0.6735 - loss: 0.4632 - val_accuracy: 0.6232 - val_loss: 0.4793\n",
      "Epoch 50/100\n",
      "134/134 - 0s - 2ms/step - accuracy: 0.6752 - loss: 0.4629 - val_accuracy: 0.6211 - val_loss: 0.4790\n",
      "Epoch 51/100\n",
      "134/134 - 0s - 2ms/step - accuracy: 0.6705 - loss: 0.4627 - val_accuracy: 0.6232 - val_loss: 0.4788\n",
      "Epoch 52/100\n",
      "134/134 - 0s - 2ms/step - accuracy: 0.6752 - loss: 0.4624 - val_accuracy: 0.6211 - val_loss: 0.4786\n",
      "Epoch 53/100\n",
      "134/134 - 0s - 2ms/step - accuracy: 0.6759 - loss: 0.4623 - val_accuracy: 0.6337 - val_loss: 0.4785\n",
      "Epoch 54/100\n",
      "134/134 - 0s - 2ms/step - accuracy: 0.6761 - loss: 0.4620 - val_accuracy: 0.6232 - val_loss: 0.4784\n",
      "Epoch 55/100\n",
      "134/134 - 0s - 2ms/step - accuracy: 0.6775 - loss: 0.4619 - val_accuracy: 0.6211 - val_loss: 0.4783\n",
      "Epoch 56/100\n",
      "134/134 - 0s - 2ms/step - accuracy: 0.6782 - loss: 0.4617 - val_accuracy: 0.6168 - val_loss: 0.4782\n",
      "Epoch 57/100\n",
      "134/134 - 0s - 3ms/step - accuracy: 0.6775 - loss: 0.4615 - val_accuracy: 0.6126 - val_loss: 0.4781\n",
      "Epoch 58/100\n",
      "134/134 - 0s - 2ms/step - accuracy: 0.6771 - loss: 0.4614 - val_accuracy: 0.6147 - val_loss: 0.4780\n",
      "Epoch 59/100\n",
      "134/134 - 0s - 2ms/step - accuracy: 0.6794 - loss: 0.4612 - val_accuracy: 0.6126 - val_loss: 0.4780\n",
      "Epoch 60/100\n",
      "134/134 - 0s - 2ms/step - accuracy: 0.6754 - loss: 0.4612 - val_accuracy: 0.6126 - val_loss: 0.4779\n",
      "Epoch 61/100\n",
      "134/134 - 0s - 1ms/step - accuracy: 0.6752 - loss: 0.4610 - val_accuracy: 0.6063 - val_loss: 0.4778\n",
      "Epoch 62/100\n",
      "134/134 - 0s - 2ms/step - accuracy: 0.6792 - loss: 0.4609 - val_accuracy: 0.6084 - val_loss: 0.4777\n",
      "Epoch 63/100\n",
      "134/134 - 0s - 2ms/step - accuracy: 0.6771 - loss: 0.4608 - val_accuracy: 0.6211 - val_loss: 0.4776\n",
      "Epoch 64/100\n",
      "134/134 - 0s - 2ms/step - accuracy: 0.6806 - loss: 0.4607 - val_accuracy: 0.6105 - val_loss: 0.4776\n",
      "Epoch 65/100\n",
      "134/134 - 0s - 2ms/step - accuracy: 0.6789 - loss: 0.4606 - val_accuracy: 0.6147 - val_loss: 0.4776\n",
      "Epoch 66/100\n",
      "134/134 - 0s - 2ms/step - accuracy: 0.6792 - loss: 0.4605 - val_accuracy: 0.6189 - val_loss: 0.4775\n",
      "Epoch 67/100\n",
      "134/134 - 0s - 2ms/step - accuracy: 0.6813 - loss: 0.4604 - val_accuracy: 0.6147 - val_loss: 0.4775\n",
      "Epoch 68/100\n",
      "134/134 - 0s - 2ms/step - accuracy: 0.6801 - loss: 0.4604 - val_accuracy: 0.6168 - val_loss: 0.4775\n",
      "Epoch 69/100\n",
      "134/134 - 0s - 2ms/step - accuracy: 0.6803 - loss: 0.4603 - val_accuracy: 0.6126 - val_loss: 0.4774\n",
      "Epoch 70/100\n",
      "134/134 - 0s - 1ms/step - accuracy: 0.6766 - loss: 0.4603 - val_accuracy: 0.6232 - val_loss: 0.4774\n",
      "Epoch 71/100\n",
      "134/134 - 0s - 2ms/step - accuracy: 0.6815 - loss: 0.4602 - val_accuracy: 0.6168 - val_loss: 0.4774\n",
      "Epoch 72/100\n",
      "134/134 - 0s - 2ms/step - accuracy: 0.6813 - loss: 0.4601 - val_accuracy: 0.6232 - val_loss: 0.4774\n",
      "Epoch 73/100\n",
      "134/134 - 0s - 3ms/step - accuracy: 0.6803 - loss: 0.4600 - val_accuracy: 0.6126 - val_loss: 0.4774\n"
     ]
    },
    {
     "name": "stdout",
     "output_type": "stream",
     "text": [
      "Epoch 74/100\n",
      "134/134 - 0s - 2ms/step - accuracy: 0.6822 - loss: 0.4600 - val_accuracy: 0.6126 - val_loss: 0.4774\n",
      "Epoch 75/100\n",
      "134/134 - 0s - 2ms/step - accuracy: 0.6853 - loss: 0.4599 - val_accuracy: 0.6189 - val_loss: 0.4774\n",
      "Epoch 76/100\n",
      "134/134 - 0s - 2ms/step - accuracy: 0.6843 - loss: 0.4599 - val_accuracy: 0.6147 - val_loss: 0.4774\n",
      "Epoch 77/100\n",
      "134/134 - 0s - 2ms/step - accuracy: 0.6841 - loss: 0.4598 - val_accuracy: 0.6189 - val_loss: 0.4773\n",
      "Epoch 78/100\n",
      "134/134 - 0s - 2ms/step - accuracy: 0.6820 - loss: 0.4598 - val_accuracy: 0.6147 - val_loss: 0.4773\n",
      "Epoch 79/100\n",
      "134/134 - 0s - 2ms/step - accuracy: 0.6860 - loss: 0.4598 - val_accuracy: 0.6189 - val_loss: 0.4774\n",
      "Epoch 80/100\n",
      "134/134 - 0s - 2ms/step - accuracy: 0.6829 - loss: 0.4597 - val_accuracy: 0.6105 - val_loss: 0.4774\n",
      "Epoch 81/100\n",
      "134/134 - 1s - 4ms/step - accuracy: 0.6829 - loss: 0.4596 - val_accuracy: 0.6126 - val_loss: 0.4773\n",
      "Epoch 82/100\n",
      "134/134 - 0s - 2ms/step - accuracy: 0.6831 - loss: 0.4596 - val_accuracy: 0.6168 - val_loss: 0.4773\n",
      "Epoch 83/100\n",
      "134/134 - 0s - 2ms/step - accuracy: 0.6824 - loss: 0.4596 - val_accuracy: 0.6084 - val_loss: 0.4774\n",
      "Epoch 84/100\n",
      "134/134 - 0s - 2ms/step - accuracy: 0.6855 - loss: 0.4595 - val_accuracy: 0.6084 - val_loss: 0.4774\n",
      "Epoch 85/100\n",
      "134/134 - 0s - 2ms/step - accuracy: 0.6803 - loss: 0.4595 - val_accuracy: 0.6126 - val_loss: 0.4774\n",
      "Epoch 86/100\n",
      "134/134 - 0s - 2ms/step - accuracy: 0.6831 - loss: 0.4595 - val_accuracy: 0.6168 - val_loss: 0.4773\n",
      "Epoch 87/100\n",
      "134/134 - 0s - 2ms/step - accuracy: 0.6855 - loss: 0.4594 - val_accuracy: 0.6168 - val_loss: 0.4773\n",
      "Epoch 88/100\n",
      "134/134 - 0s - 2ms/step - accuracy: 0.6843 - loss: 0.4594 - val_accuracy: 0.6105 - val_loss: 0.4774\n",
      "Epoch 89/100\n",
      "134/134 - 0s - 2ms/step - accuracy: 0.6850 - loss: 0.4593 - val_accuracy: 0.6105 - val_loss: 0.4774\n",
      "Epoch 90/100\n",
      "134/134 - 0s - 2ms/step - accuracy: 0.6841 - loss: 0.4593 - val_accuracy: 0.6042 - val_loss: 0.4773\n",
      "Epoch 91/100\n",
      "134/134 - 0s - 2ms/step - accuracy: 0.6815 - loss: 0.4593 - val_accuracy: 0.6063 - val_loss: 0.4774\n",
      "Epoch 92/100\n",
      "134/134 - 0s - 2ms/step - accuracy: 0.6867 - loss: 0.4593 - val_accuracy: 0.6189 - val_loss: 0.4773\n",
      "Epoch 93/100\n",
      "134/134 - 0s - 2ms/step - accuracy: 0.6808 - loss: 0.4593 - val_accuracy: 0.6147 - val_loss: 0.4773\n",
      "Epoch 94/100\n",
      "134/134 - 0s - 2ms/step - accuracy: 0.6855 - loss: 0.4592 - val_accuracy: 0.6189 - val_loss: 0.4773\n",
      "Epoch 95/100\n",
      "134/134 - 0s - 2ms/step - accuracy: 0.6876 - loss: 0.4592 - val_accuracy: 0.6084 - val_loss: 0.4774\n",
      "Epoch 96/100\n",
      "134/134 - 0s - 2ms/step - accuracy: 0.6841 - loss: 0.4592 - val_accuracy: 0.6084 - val_loss: 0.4774\n",
      "Epoch 97/100\n",
      "134/134 - 0s - 2ms/step - accuracy: 0.6855 - loss: 0.4591 - val_accuracy: 0.6189 - val_loss: 0.4773\n",
      "Epoch 98/100\n",
      "134/134 - 0s - 2ms/step - accuracy: 0.6841 - loss: 0.4591 - val_accuracy: 0.6147 - val_loss: 0.4774\n",
      "Epoch 99/100\n",
      "134/134 - 0s - 2ms/step - accuracy: 0.6855 - loss: 0.4591 - val_accuracy: 0.6189 - val_loss: 0.4773\n",
      "Epoch 100/100\n",
      "134/134 - 0s - 2ms/step - accuracy: 0.6855 - loss: 0.4591 - val_accuracy: 0.6147 - val_loss: 0.4774\n"
     ]
    }
   ],
   "source": [
    "import numpy as np\n",
    "import matplotlib.pyplot as plt\n",
    "import seaborn as sns\n",
    "import tensorflow as tf\n",
    "from sklearn.preprocessing import StandardScaler, LabelEncoder\n",
    "from sklearn.metrics import accuracy_score, classification_report, confusion_matrix\n",
    "\n",
    "scaler = StandardScaler()\n",
    "x_train = scaler.fit_transform(x_train)\n",
    "x_test = scaler.transform(x_test)\n",
    "\n",
    "label_encoder = LabelEncoder()\n",
    "y_train_encoded = label_encoder.fit_transform(y_train)\n",
    "y_test_encoded = label_encoder.transform(y_test)\n",
    "y_encoded = label_encoder.transform(y)\n",
    "\n",
    "# Define the MLP model\n",
    "modelMLP = tf.keras.Sequential([\n",
    "    tf.keras.layers.Dense(128, activation='relu', input_shape=(x_train.shape[1],)),\n",
    "    tf.keras.layers.Dense(64, activation='relu'),\n",
    "    tf.keras.layers.Dense(32, activation='relu'),\n",
    "    tf.keras.layers.Dense(32, activation='relu'),\n",
    "    tf.keras.layers.Dense(3, activation='softmax')\n",
    "])\n",
    "\n",
    "# You can adjust this value as needed\n",
    "learning_rate = 0.00001\n",
    "\n",
    "# Compile the model with the specified learning rate\n",
    "optimizer = tf.keras.optimizers.Adam(learning_rate=learning_rate)\n",
    "\n",
    "modelMLP.compile(optimizer=optimizer, loss='sparse_categorical_crossentropy', metrics=['accuracy'])\n",
    "\n",
    "# Define the EarlyStopping callback\n",
    "early_stop = tf.keras.callbacks.EarlyStopping(monitor='val_loss', patience=10, restore_best_weights=True)\n",
    "\n",
    "# Train the model and save the history\n",
    "history = modelMLP.fit(x_train, y_train_encoded, epochs=100, batch_size=32, validation_split=0.1, verbose=2, callbacks=[early_stop])"
   ]
  },
  {
   "cell_type": "code",
   "execution_count": 52,
   "id": "602293aa",
   "metadata": {},
   "outputs": [
    {
     "name": "stdout",
     "output_type": "stream",
     "text": [
      "[0, 1, 2]\n",
      "Label Encoding Mapping: {'deep': 0, 'fast': 1, 'normal': 2}\n"
     ]
    }
   ],
   "source": [
    "# Unique labels for y: y is now encoded [0, 1, 2] not [\"deep\", \"fast\", \"normal\"]\n",
    "encoded_unique_labels = sorted(pd.Series(y_test_encoded).unique())\n",
    "mapping = dict(zip(label_encoder.classes_, label_encoder.transform(label_encoder.classes_)))\n",
    "\n",
    "print(encoded_unique_labels)\n",
    "print(\"Label Encoding Mapping:\", mapping)"
   ]
  },
  {
   "cell_type": "code",
   "execution_count": 54,
   "id": "0d7fb58d",
   "metadata": {},
   "outputs": [
    {
     "name": "stdout",
     "output_type": "stream",
     "text": [
      "\u001b[1m38/38\u001b[0m \u001b[32m━━━━━━━━━━━━━━━━━━━━\u001b[0m\u001b[37m\u001b[0m \u001b[1m0s\u001b[0m 937us/step\n",
      "              precision    recall  f1-score   support\n",
      "\n",
      "           0       1.00      1.00      1.00       388\n",
      "           1       0.44      0.51      0.47       394\n",
      "           2       0.43      0.35      0.38       404\n",
      "\n",
      "    accuracy                           0.62      1186\n",
      "   macro avg       0.62      0.62      0.62      1186\n",
      "weighted avg       0.62      0.62      0.61      1186\n",
      "\n",
      "Multilayer Perceptron accuracy 61.72006745362564 %\n",
      "[[388   0   0]\n",
      " [  0 202 192]\n",
      " [  0 262 142]]\n"
     ]
    },
    {
     "data": {
      "image/png": "[encoded data removed]",
      "text/plain": [
       "<Figure size 600x400 with 1 Axes>"
      ]
     },
     "metadata": {},
     "output_type": "display_data"
    }
   ],
   "source": [
    "# Predict and evaluate the model\n",
    "mp_y_pred = np.argmax(modelMLP.predict(x_test), axis=1)\n",
    "\n",
    "cm_mp = confusion_matrix(y_test_encoded, mp_y_pred, labels=encoded_unique_labels)\n",
    "\n",
    "cmn_mp = cm_mp.astype(\"float\") / cm_mp.sum(axis=1)[:, np.newaxis]\n",
    "cm_percent_mp = cmn_mp * 100\n",
    "\n",
    "# Create % signs on confusion matrix\n",
    "annotations = np.asarray([['{:.1f}%'.format(value) for value in row] for row in cm_percent_mp])\n",
    "\n",
    "# Plot conusion matrix: %\n",
    "fig, ax = plt.subplots(figsize=(6, 4))\n",
    "sns.heatmap(cm_percent_mp, annot=annotations, fmt='', cbar=False, cmap='Reds',\n",
    "            xticklabels=encoded_unique_labels, yticklabels=encoded_unique_labels)\n",
    "\n",
    "\n",
    "print(classification_report(y_test_encoded, mp_y_pred))\n",
    "print(\"Multilayer Perceptron accuracy\", (accuracy_score(y_test_encoded, mp_y_pred) * 100), \"%\")\n",
    "print(cm_mp)"
   ]
  },
  {
   "cell_type": "markdown",
   "id": "9f21e39c",
   "metadata": {},
   "source": [
    "- 0 = Deep: 100% correctly predicted deep\n",
    "- 1 = Fast: Almost 1/2 correctly predicted fast. Just below 1/2 wrongly predicted normal\n",
    "- 2 = Normal: just above 35% correctly predicted normal. just below 65% wrongly predicted fast"
   ]
  },
  {
   "cell_type": "code",
   "execution_count": 55,
   "id": "8aecbc52",
   "metadata": {},
   "outputs": [
    {
     "data": {
      "image/png": "[encoded data removed]",
      "text/plain": [
       "<Figure size 1400x600 with 2 Axes>"
      ]
     },
     "metadata": {},
     "output_type": "display_data"
    }
   ],
   "source": [
    "# Plot the learning curve for accuracy\n",
    "plt.figure(figsize=(14, 6))\n",
    "\n",
    "# Plot training & validation accuracy values\n",
    "plt.subplot(1, 2, 1)\n",
    "plt.plot(history.history['accuracy'], label='Train Accuracy')\n",
    "plt.plot(history.history['val_accuracy'], label='Validation Accuracy')\n",
    "plt.title('Model Accuracy')\n",
    "plt.ylabel('Accuracy')\n",
    "plt.xlabel('Epoch')\n",
    "plt.legend(loc='upper left')\n",
    "\n",
    "# Plot training & validation loss values\n",
    "plt.subplot(1, 2, 2)\n",
    "plt.plot(history.history['loss'], label='Train Loss')\n",
    "plt.plot(history.history['val_loss'], label='Validation Loss')\n",
    "plt.title('Model Loss')\n",
    "plt.ylabel('Loss')\n",
    "plt.xlabel('Epoch')\n",
    "plt.legend(loc='upper left')\n",
    "\n",
    "plt.show()"
   ]
  },
  {
   "cell_type": "markdown",
   "id": "308517ef",
   "metadata": {},
   "source": [
    "## XGBoost\n",
    "- Supervised machine learning algorithm\n",
    "- Based on the concept of gradient boosting: sequential models which attempt to correct previous models' errors\n",
    "- Collection of decision trees where each tree corrects the errors of the previous ones"
   ]
  },
  {
   "cell_type": "code",
   "execution_count": 56,
   "id": "7ee24fe7",
   "metadata": {},
   "outputs": [
    {
     "name": "stdout",
     "output_type": "stream",
     "text": [
      "Requirement already satisfied: xgboost in c:\\users\\humay\\anaconda3\\lib\\site-packages (2.1.1)\n",
      "Requirement already satisfied: numpy in c:\\users\\humay\\anaconda3\\lib\\site-packages (from xgboost) (1.24.3)\n",
      "Requirement already satisfied: scipy in c:\\users\\humay\\anaconda3\\lib\\site-packages (from xgboost) (1.11.1)\n",
      "Note: you may need to restart the kernel to use updated packages.\n"
     ]
    }
   ],
   "source": [
    "pip install xgboost"
   ]
  },
  {
   "cell_type": "code",
   "execution_count": 58,
   "id": "5e805619",
   "metadata": {},
   "outputs": [
    {
     "name": "stdout",
     "output_type": "stream",
     "text": [
      "              precision    recall  f1-score   support\n",
      "\n",
      "           0       1.00      1.00      1.00       388\n",
      "           1       0.16      0.16      0.16       394\n",
      "           2       0.16      0.15      0.16       404\n",
      "\n",
      "    accuracy                           0.43      1186\n",
      "   macro avg       0.44      0.44      0.44      1186\n",
      "weighted avg       0.43      0.43      0.43      1186\n",
      "\n",
      "XGBOOST 43.3389544688027 %\n",
      "[[388   0   0]\n",
      " [  0  64 330]\n",
      " [  0 342  62]]\n"
     ]
    },
    {
     "data": {
      "image/png": "[encoded data removed]",
      "text/plain": [
       "<Figure size 600x400 with 1 Axes>"
      ]
     },
     "metadata": {},
     "output_type": "display_data"
    }
   ],
   "source": [
    "import xgboost as xgb\n",
    "\n",
    "xgb_model = xgb.XGBClassifier(objective=\"multi:softmax\", num_class=len(np.unique(y)))\n",
    "\n",
    "xgb_model.fit(x_train, y_train_encoded)\n",
    "xgb_y_pred = xgb_model.predict(x_test)\n",
    "\n",
    "cm_xgb = confusion_matrix(y_test_encoded, xgb_y_pred, labels=encoded_unique_labels)\n",
    "\n",
    "cmn_xgb = cm_xgb.astype('float') / cm_xgb.sum(axis=1)[:, np.newaxis]\n",
    "cm_percent_xgb = cmn_xgb * 100\n",
    "\n",
    "# Create % signs on confusion matrix\n",
    "annotations = np.asarray([['{:.1f}%'.format(value) for value in row] for row in cm_percent_xgb])\n",
    "\n",
    "# Plot conusion matrix: %\n",
    "fig, ax = plt.subplots(figsize=(6, 4))\n",
    "sns.heatmap(cm_percent_xgb, annot=annotations, fmt='', cbar=False, cmap='Reds',\n",
    "            xticklabels=encoded_unique_labels, yticklabels=encoded_unique_labels)\n",
    "\n",
    "print(classification_report (y_test_encoded, xgb_y_pred))\n",
    "print(\"XGBOOST\", (accuracy_score(y_test_encoded, xgb_y_pred)*100),\"%\")\n",
    "print(cm_xgb)"
   ]
  },
  {
   "cell_type": "markdown",
   "id": "686e4e9a",
   "metadata": {},
   "source": [
    "- 0 = Deep: 100% correctly predicted deep\n",
    "- 1 = Fast: almost 1/6 correctly predicted fast. almost 5/6 wrongly predicted normal\n",
    "- 2 = Normal: almost 1/6 correctly predicted normal. almost 5/6 wrongly predicted fast"
   ]
  },
  {
   "cell_type": "markdown",
   "id": "ab4f99ba",
   "metadata": {},
   "source": [
    "# Comparing Results: Accuracy\n",
    "5/6 models achieved roughly 66% accuracy, meaning they correctly predicted 2 out of 3 instances.\\\n",
    "This relatively \"low\" accuracy could be attributed to potential errors in the data.\\\n",
    "\n",
    "Another factor could be the nature of breathing characteristics:\\\n",
    "- The confusion matrices show that Deep breathing consistently achieves a 100% true positive rate, while Fast and Normal do not.\n",
    "- It’s possible that the features of Fast and Normal breathing are more similar to each other, making them harder to distinguish. Whereas Deep breathing is more distinct, therefore easier to predict accurately."
   ]
  },
  {
   "cell_type": "code",
   "execution_count": 74,
   "id": "b471787c",
   "metadata": {},
   "outputs": [
    {
     "name": "stdout",
     "output_type": "stream",
     "text": [
      "{'KNN Accuracy': 66.51484480431849, 'Logistic Regression Accuracy': 66.48110661268556, 'Decision Tree Accuracy': 66.46423751686909, 'Multilayer Perceptron accuracy': 65.34569983136593, 'XGBOOST': 43.3389544688027}\n"
     ]
    }
   ],
   "source": [
    "accuracy_score_dict = {\n",
    "    \"Decision Tree Accuracy\" : accuracy_score(y, dt_y_pred)*100,\n",
    "    \"KNN Accuracy\" : accuracy_score(y, knn_y_pred)*100,\n",
    "    \"Logistic Regression Accuracy\" : accuracy_score(y, lgr_y_pred)*100,\n",
    "    \"Multilayer Perceptron accuracy\" : accuracy_score(y_test_encoded, mp_y_pred)*100,\n",
    "    \"XGBOOST\" : accuracy_score(y_test_encoded, y_pred)*100,\n",
    "}\n",
    "\n",
    "print({k: v for k, v in sorted(accuracy_score_dict.items(), key=lambda item: item[1], reverse=True)})"
   ]
  },
  {
   "cell_type": "markdown",
   "id": "bc5ef135",
   "metadata": {},
   "source": [
    "- Most Accurate Model: K-Nearest Neighbour\n",
    "- Least Accurate Model: XGBoost (by a good bit)\n",
    "- All have similar accuracies except for XGBoost"
   ]
  },
  {
   "cell_type": "markdown",
   "id": "cc55253e",
   "metadata": {},
   "source": [
    "# Comparing Results: Confusion Matrix\n",
    "**Why XGBoost model's accuracy significantly lower:**\n",
    "- The confusion matrix for XGBoost shows that both Fast and Normal breathing classes have a low number of true positives.\n",
    "- Each class was correctly predicted only 16% of the time.\n",
    "- Other models demonstrated better true positive rates for Fast and Normal breathing.\n",
    "- E.g. Decision Tree model, Normal breathing had a lower true positive rate, but Fast breathing had a higher rate.\n",
    "- No other model had two classes with true positive rates significantly below 50%."
   ]
  }
 ],
 "metadata": {
  "kernelspec": {
   "display_name": "Python 3 (ipykernel)",
   "language": "python",
   "name": "python3"
  },
  "language_info": {
   "codemirror_mode": {
    "name": "ipython",
    "version": 3
   },
   "file_extension": ".py",
   "mimetype": "text/x-python",
   "name": "python",
   "nbconvert_exporter": "python",
   "pygments_lexer": "ipython3",
   "version": "3.11.5"
  }
 },
 "nbformat": 4,
 "nbformat_minor": 5
}
